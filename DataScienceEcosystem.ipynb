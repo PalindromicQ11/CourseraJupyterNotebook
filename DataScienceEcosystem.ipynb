{
 "cells": [
  {
   "cell_type": "markdown",
   "id": "af072c10-b20c-4239-a4ba-421b1da4636d",
   "metadata": {},
   "source": [
    "# DataScienceEcosystem.ipyn\n",
    "\n",
    "\n"
   ]
  },
  {
   "cell_type": "markdown",
   "id": "5d82ae34-583d-4c98-aa77-7b0786b8257f",
   "metadata": {},
   "source": [
    "Jupyter notebook is a multilanguages, interactive kernel that enables coders of all levels not only keep tidy notes but also collaborate their works amongst colleagues or coders all over the globe.  "
   ]
  },
  {
   "cell_type": "markdown",
   "id": "7fcb0dee-17ce-474b-ae51-7ebf3ed7dd8c",
   "metadata": {},
   "source": [
    "Some of the widely used programming languages that Data Scientist codes with are:\n",
    "1. Python\n",
    "2. Java\n",
    "3. C++\n",
    "4. Scala\n",
    "5. R Programming\n",
    "6. Go\n",
    "7. C \n"
   ]
  },
  {
   "cell_type": "markdown",
   "id": "f141b5a7-1f24-4d91-866a-1a072524ae59",
   "metadata": {},
   "source": [
    "Data Science is an extensive field and the programming libraries are essentials tools that every current and aspiring Data Scientist must know. The following entails but doesn't enclosed:\n",
    "\n",
    "A. Mining (scraping data)\n",
    "   1. Scrapy\n",
    "   2. BeautifulSoup\n",
    "   3. Selenium\n",
    "   4. Request\n",
    "   \n",
    "B. Cleaning \n",
    "   1. Numpy\n",
    "   2. Pandas\n",
    "   3. R programming lib:\n",
    "       a. Tidyverse\n",
    "       b. Caret\n",
    "       c. ggplot\n",
    "       d. ggplot2\n",
    "\n",
    "C. Data Visualization\n",
    "    1. Matplotlib \n",
    "    2. plotly\n",
    "    3. Seaborn\n",
    "\n",
    "    \n",
    "D. Build and Train models\n",
    "    1. Scikit-learn\n",
    "    2. Scipy\n",
    "    3. PyTorch\n",
    "    4. TensorFlow\n",
    "\n"
   ]
  },
  {
   "cell_type": "markdown",
   "id": "d61a9de8-2546-499e-911f-2f4d579020aa",
   "metadata": {},
   "source": [
    "# Table"
   ]
  },
  {
   "cell_type": "markdown",
   "id": "b83424f2-9af8-4016-a311-1d77eb1053d7",
   "metadata": {},
   "source": [
    "|Data Science Tools|\n",
    "|------------------|\n",
    "|Visual Studio Code|\n",
    "|RStudio|\n",
    "|JupyterNoteBook|"
   ]
  },
  {
   "cell_type": "markdown",
   "id": "153df5d6-1097-4801-8a77-4b318f3cfe02",
   "metadata": {},
   "source": [
    "### Below are a few examples of evaluating arithmetic expression in Python "
   ]
  },
  {
   "cell_type": "code",
   "execution_count": 14,
   "id": "314b4207-0624-42bc-8fb6-d668fa049f97",
   "metadata": {},
   "outputs": [
    {
     "name": "stdout",
     "output_type": "stream",
     "text": [
      "The calculated value of the above arithmetic expression are: (6, 14, 3.0, 12, 17)\n"
     ]
    }
   ],
   "source": [
    "#This is a simple addition:\n",
    "a = (2+4)\n",
    "\n",
    "#This is a simple subtraction:\n",
    "b = (6+8)\n",
    "\n",
    "#This is a simple multiplication:\n",
    "\n",
    "f = (3*4) \n",
    "\n",
    "#This is a simple division:\n",
    "\n",
    "d = (12/4)\n",
    "\n",
    "#This is a simple multiply then add integers arithmethic expression:\n",
    "\n",
    "e = (3*4)+5 \n",
    "print(f'The calculated value of the above arithmetic expression are: {a,b,d,f,e}')"
   ]
  },
  {
   "cell_type": "code",
   "execution_count": 37,
   "id": "86f27dd5-3d92-4090-8fb2-96d888319bc7",
   "metadata": {},
   "outputs": [
    {
     "name": "stdout",
     "output_type": "stream",
     "text": [
      "3.3333333333333335\n"
     ]
    }
   ],
   "source": [
    "#The code below will convert minutes into hours\n",
    "\n",
    "a = 200/60\n",
    "print(a)"
   ]
  },
  {
   "cell_type": "markdown",
   "id": "babd16e5-56af-403b-8235-195aa30ffc84",
   "metadata": {},
   "source": [
    "# Objectives:\n",
    "|*Popular Programming Language covered are:|\n",
    "|------------------------------------------|\n",
    "     1. Python \n",
    "     2. R programming \n",
    "     3. Java  \n",
    "     4. Scala \n",
    "     5. C++  \n",
    "|*Data Science tools:|\n",
    "|--------------------|\n",
    "     1. Scikit-learn  \n",
    "     2. Numpy  \n",
    "     3. Pandas       \n",
    "     4. Scrapy \n",
    "     5. Selenium      \n",
    "    \n",
    "\n",
    "|*Development Evironment Tools|\n",
    "|------------------------------|\n",
    "     1. Visual Studio Code \n",
    "     2. Jupyter notebook \n",
    "     3. Zeppelin \n",
    "     4. R Studio \n",
    "    "
   ]
  },
  {
   "cell_type": "markdown",
   "id": "caffdc31-d4f8-4fcb-941f-09d968a44694",
   "metadata": {},
   "source": [
    "## Authors: Lakshmi Holla & Niveditha Pandith\n",
    "                  Quang Lam \n",
    "    "
   ]
  },
  {
   "cell_type": "code",
   "execution_count": null,
   "id": "fc1ec3ec-5aaa-46f7-a9ec-efc648dddf79",
   "metadata": {},
   "outputs": [],
   "source": []
  }
 ],
 "metadata": {
  "kernelspec": {
   "display_name": "Python",
   "language": "python",
   "name": "conda-env-python-py"
  },
  "language_info": {
   "codemirror_mode": {
    "name": "ipython",
    "version": 3
   },
   "file_extension": ".py",
   "mimetype": "text/x-python",
   "name": "python",
   "nbconvert_exporter": "python",
   "pygments_lexer": "ipython3",
   "version": "3.7.12"
  }
 },
 "nbformat": 4,
 "nbformat_minor": 5
}
